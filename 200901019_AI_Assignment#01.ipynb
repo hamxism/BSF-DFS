{
 "cells": [
  {
   "cell_type": "code",
   "execution_count": 12,
   "id": "657dbdbc",
   "metadata": {},
   "outputs": [
    {
     "name": "stdout",
     "output_type": "stream",
     "text": [
      "Optimized Path through Depth First Search:\n",
      "Arad,Zerind,Oradea,Sibiu,Rimnicu Vilcea,Pitesti,Bucharest\n",
      "\n",
      "Breadth First Search Optimized Path: ['Arad', 'Sibiu', 'Fagaras', 'Bucharest']\n",
      "\n",
      "Breadth First Search has outperformed Depth First Search providing more optimized path.\n"
     ]
    }
   ],
   "source": [
    "from collections import deque\n",
    "\n",
    "source = 'Arad'\n",
    "destination = 'Bucharest'\n",
    "\n",
    "input_graph = {\n",
    "    'Arad': {'Sibiu': 140, 'Timisoara': 118, 'Zerind': 75},\n",
    "    'Urziceni': {'Bucharest': 85, 'Hirsova': 98, 'Vaslui': 142},\n",
    "    'Rimnicu Vilcea': {'Craiova': 146, 'Pitesti': 97, 'Sibiu': 80},\n",
    "    'Fagaras': {'Bucharest': 211, 'Sibiu': 99},\n",
    "    'Sibiu': {'Arad': 140, 'Fagaras': 99, 'Oradea': 151, 'Rimnicu Vilcea': 80},\n",
    "    'Mehadia': {'Drobeta': 75, 'Lugoj': 70},\n",
    "    'Lugoj': {'Mehadia': 70, 'Timisoara': 111},\n",
    "    'Oradea': {'Sibiu': 151, 'Zerind': 71},\n",
    "    'Bucharest': {'Fagaras': 211, 'Giurgiu': 90, 'Pitesti': 101, 'Urziceni': 85},\n",
    "    'Pitesti': {'Bucharest': 101, 'Craiova': 138, 'Rimnicu Vilcea': 97},\n",
    "    'Drobeta': {'Craiova': 120, 'Mehadia': 75},\n",
    "    'Craiova': {'Drobeta': 120, 'Pitesti': 138, 'Rimnicu Vilcea': 146},\n",
    "    'Eforie': {'Hirsova': 86},\n",
    "    'Zerind': {'Arad': 75, 'Oradea': 71},\n",
    "    'Timisoara': {'Arad': 118, 'Lugoj': 111},\n",
    "    'Iasi': {'Neamt': 87, 'Vaslui': 92},\n",
    "    'Giurgiu': {'Bucharest': 90},\n",
    "    'Vaslui': {'Iasi': 92, 'Urziceni': 142},\n",
    "    'Hirsovinput_grapha': {'Eforie': 86, 'Urziceni': 98},\n",
    "    'Neamt': {'Iasi': 87}\n",
    "    \n",
    "    \n",
    "    \n",
    "}\n",
    "def dfs(input_graph, source, destination):\n",
    "    visited_node = set()\n",
    "    stack = [(source, [source])]\n",
    "    while stack:\n",
    "        (vertex, path) = stack.pop()\n",
    "        if vertex not in visited_node:\n",
    "            if vertex == destination:\n",
    "                print(\"Optimized Path through Depth First Search:\")\n",
    "                print(\",\".join(path))\n",
    "                return\n",
    "            visited_node.add(vertex)\n",
    "            for neighbor in input_graph[vertex]:\n",
    "                stack.append((neighbor, path + [neighbor]))\n",
    "\n",
    "                \n",
    "                \n",
    "def bfs(input_graph, source, destination):\n",
    "    queue = deque([(source, [source])])\n",
    "    visited_node = set()\n",
    "\n",
    "    while queue:\n",
    "        vertex, path = queue.popleft()\n",
    "        visited_node.add(vertex)\n",
    "\n",
    "        if vertex == destination:\n",
    "            return path\n",
    "\n",
    "        for neighbor in input_graph[vertex]:\n",
    "            if neighbor not in visited_node:\n",
    "                queue.append((neighbor, path + [neighbor]))\n",
    "\n",
    "    return None\n",
    "\n",
    "\n",
    "\n",
    "dfs(input_graph, source, destination)\n",
    "path = bfs(input_graph, source, destination)\n",
    "print(\"\\nBreadth First Search Optimized Path:\",path)\n",
    "\n",
    "print(\"\\nBreadth First Search has outperformed Depth First Search providing more optimized path.\")\n",
    "\n",
    "\n",
    "\n"
   ]
  },
  {
   "cell_type": "code",
   "execution_count": null,
   "id": "056b03b7",
   "metadata": {},
   "outputs": [],
   "source": []
  }
 ],
 "metadata": {
  "kernelspec": {
   "display_name": "Python 3",
   "language": "python",
   "name": "python3"
  },
  "language_info": {
   "codemirror_mode": {
    "name": "ipython",
    "version": 3
   },
   "file_extension": ".py",
   "mimetype": "text/x-python",
   "name": "python",
   "nbconvert_exporter": "python",
   "pygments_lexer": "ipython3",
   "version": "3.8.8"
  }
 },
 "nbformat": 4,
 "nbformat_minor": 5
}
